{
 "cells": [
  {
   "cell_type": "markdown",
   "id": "0ced5558",
   "metadata": {},
   "source": [
    "# Логістична регресія"
   ]
  },
  {
   "cell_type": "code",
   "execution_count": 8,
   "id": "346c0029",
   "metadata": {},
   "outputs": [],
   "source": [
    "import pandas as pd\n",
    "from sklearn.linear_model import LogisticRegression \n",
    "from sklearn import metrics\n",
    "from sklearn.model_selection import train_test_split \n",
    "from sklearn.metrics import classification_report \n",
    "from sklearn.metrics import roc_auc_score \n",
    "from sklearn.metrics import roc_curve\n",
    "import pylab"
   ]
  },
  {
   "cell_type": "code",
   "execution_count": 9,
   "id": "59089444",
   "metadata": {},
   "outputs": [
    {
     "name": "stdout",
     "output_type": "stream",
     "text": [
      "     X1    X2\n",
      "0  20.0  14.0\n",
      "1  32.4  16.3\n",
      "2  45.2  28.7\n",
      "3  37.8  21.0\n",
      "4  30.5  14.6    Y\n",
      "0  1\n",
      "1  1\n",
      "2  1\n",
      "3  0\n",
      "4  0\n"
     ]
    }
   ],
   "source": [
    "X_test = pd.DataFrame({'X1':[20, 32.4, 45.2, 37.8, 30.5], 'X2':[14, \n",
    "16.3, 28.7, 21, 14.6]})\n",
    "Y_test = pd.DataFrame({'Y':[1,1,1,0,0]})\n",
    "\n",
    "print(X_test, Y_test)"
   ]
  },
  {
   "cell_type": "code",
   "execution_count": 12,
   "id": "c66a1400",
   "metadata": {},
   "outputs": [
    {
     "name": "stderr",
     "output_type": "stream",
     "text": [
      "C:\\Users\\Kate\\anaconda3\\envs\\main_acad_ds\\lib\\site-packages\\sklearn\\utils\\validation.py:63: DataConversionWarning: A column-vector y was passed when a 1d array was expected. Please change the shape of y to (n_samples, ), for example using ravel().\n",
      "  return f(*args, **kwargs)\n"
     ]
    },
    {
     "data": {
      "text/plain": [
       "LogisticRegression()"
      ]
     },
     "execution_count": 12,
     "metadata": {},
     "output_type": "execute_result"
    }
   ],
   "source": [
    "X_train = pd.DataFrame({'X1':[22.91, 31.98, 26, 35.79, 31.19, 40.13,\n",
    "51.24, 52.95, 50.36, 60.51, 51.38, 59.79, 65.97, 68.45],\\\n",
    "'X2':[16.58, 15.84, 17.72, 20.42, 23.82, 24.5, 26.56, 28.98, 31.9,\n",
    "31.28, 33.88, 35.1, 32.86, 38.1]})\n",
    "\n",
    "Y_train = pd.DataFrame({'Y':[1,0,1,0,1,1,0,0,1,0,1,0,0,1]})\n",
    "#Y_tran = ravel(Y_train)\n",
    "\n",
    "model = LogisticRegression()\n",
    "model.fit(X_train,Y_train)"
   ]
  },
  {
   "cell_type": "code",
   "execution_count": 14,
   "id": "d0a67b2b",
   "metadata": {},
   "outputs": [
    {
     "name": "stdout",
     "output_type": "stream",
     "text": [
      "Accuracy of logistic regression classifier on test set:0.80\n",
      "Precision of logistic regression classifier on test set: 1.00\n",
      "Recall of logistic regression classifier on test set: 0.67\n"
     ]
    }
   ],
   "source": [
    "#точність класифікатора логістичної регресії на тестовому наборі:\n",
    "print('Accuracy of logistic regression classifier on test set:\\\n",
    "{:.2f}'.format(model.score(X_test, Y_test)))\n",
    "print('Precision of logistic regression classifier on test set: \\\n",
    "{:.2f}'.format(metrics.precision_score(Y_test, model.predict(X_test))))\n",
    "print('Recall of logistic regression classifier on test set: \\\n",
    "{:.2f}'.format(metrics.recall_score(Y_test, model.predict(X_test))))"
   ]
  },
  {
   "cell_type": "code",
   "execution_count": 15,
   "id": "4350d017",
   "metadata": {},
   "outputs": [
    {
     "data": {
      "image/png": "[encoded data removed]",
      "text/plain": [
       "<Figure size 432x288 with 1 Axes>"
      ]
     },
     "metadata": {
      "needs_background": "light"
     },
     "output_type": "display_data"
    }
   ],
   "source": [
    "auc = roc_auc_score(Y_test, model.predict(X_test)) \n",
    "fpr, tpr, thresholds = roc_curve(Y_test, model.predict_proba(X_test)[:,1])\n",
    "\n",
    "pylab.plot(fpr, tpr, label='Logistic Regression (area = %0.2f)' % auc)\n",
    "pylab.plot([0, 1], [0, 1],'r--')\n",
    "pylab.xlabel('False Positive Rate')\n",
    "pylab.ylabel('True Positive Rate')\n",
    "pylab.legend(loc=0)\n",
    "pylab.show()"
   ]
  },
  {
   "cell_type": "code",
   "execution_count": null,
   "id": "f1e62f69",
   "metadata": {},
   "outputs": [],
   "source": []
  }
 ],
 "metadata": {
  "kernelspec": {
   "display_name": "Python 3",
   "language": "python",
   "name": "python3"
  },
  "language_info": {
   "codemirror_mode": {
    "name": "ipython",
    "version": 3
   },
   "file_extension": ".py",
   "mimetype": "text/x-python",
   "name": "python",
   "nbconvert_exporter": "python",
   "pygments_lexer": "ipython3",
   "version": "3.8.10"
  }
 },
 "nbformat": 4,
 "nbformat_minor": 5
}
