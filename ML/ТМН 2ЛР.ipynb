{
 "cells": [
  {
   "cell_type": "markdown",
   "id": "aefd20d0",
   "metadata": {},
   "source": [
    "## Лабораторна робота №2  \n",
    "2)\tРеалізувати функції one-hot-encoding та softmax засобами базового Python 3.6. Розділити змінні на чисельні та категоріальні, масштабувати і нормувати дані.\n",
    "\n",
    "3)\tРеалізувати модель логістичної регресії засобами базового Python для розв’язання задачі бінарної класифікації для повного набору ознак із попередньо оброблених даних і для попередньо необроблених даних, а також лише для кількісних ознак. \n",
    "\n",
    "4)\tЗробити висновок про зміну якості моделі в залежності від застосування попередньої обробки даних і об’єму ознак, на яких навчалася модель.   \n"
   ]
  },
  {
   "cell_type": "code",
   "execution_count": 1,
   "id": "73f75974",
   "metadata": {},
   "outputs": [],
   "source": [
    "import numpy as np\n",
    "import pandas as pd\n",
    "from sklearn.preprocessing import OneHotEncoder\n",
    "\n",
    "from matplotlib import pyplot as plt"
   ]
  },
  {
   "cell_type": "code",
   "execution_count": 2,
   "id": "c4ba0b97",
   "metadata": {},
   "outputs": [
    {
     "data": {
      "text/html": [
       "<div>\n",
       "<style scoped>\n",
       "    .dataframe tbody tr th:only-of-type {\n",
       "        vertical-align: middle;\n",
       "    }\n",
       "\n",
       "    .dataframe tbody tr th {\n",
       "        vertical-align: top;\n",
       "    }\n",
       "\n",
       "    .dataframe thead th {\n",
       "        text-align: right;\n",
       "    }\n",
       "</style>\n",
       "<table border=\"1\" class=\"dataframe\">\n",
       "  <thead>\n",
       "    <tr style=\"text-align: right;\">\n",
       "      <th></th>\n",
       "      <th>CustomerID</th>\n",
       "      <th>Gender</th>\n",
       "      <th>Age</th>\n",
       "      <th>Annual Income (k$)</th>\n",
       "      <th>Spending Score (1-100)</th>\n",
       "    </tr>\n",
       "  </thead>\n",
       "  <tbody>\n",
       "    <tr>\n",
       "      <th>0</th>\n",
       "      <td>1</td>\n",
       "      <td>Male</td>\n",
       "      <td>19</td>\n",
       "      <td>15</td>\n",
       "      <td>39</td>\n",
       "    </tr>\n",
       "    <tr>\n",
       "      <th>1</th>\n",
       "      <td>2</td>\n",
       "      <td>Male</td>\n",
       "      <td>21</td>\n",
       "      <td>15</td>\n",
       "      <td>81</td>\n",
       "    </tr>\n",
       "    <tr>\n",
       "      <th>2</th>\n",
       "      <td>3</td>\n",
       "      <td>Female</td>\n",
       "      <td>20</td>\n",
       "      <td>16</td>\n",
       "      <td>6</td>\n",
       "    </tr>\n",
       "    <tr>\n",
       "      <th>3</th>\n",
       "      <td>4</td>\n",
       "      <td>Female</td>\n",
       "      <td>23</td>\n",
       "      <td>16</td>\n",
       "      <td>77</td>\n",
       "    </tr>\n",
       "    <tr>\n",
       "      <th>4</th>\n",
       "      <td>5</td>\n",
       "      <td>Female</td>\n",
       "      <td>31</td>\n",
       "      <td>17</td>\n",
       "      <td>40</td>\n",
       "    </tr>\n",
       "  </tbody>\n",
       "</table>\n",
       "</div>"
      ],
      "text/plain": [
       "   CustomerID  Gender  Age  Annual Income (k$)  Spending Score (1-100)\n",
       "0           1    Male   19                  15                      39\n",
       "1           2    Male   21                  15                      81\n",
       "2           3  Female   20                  16                       6\n",
       "3           4  Female   23                  16                      77\n",
       "4           5  Female   31                  17                      40"
      ]
     },
     "execution_count": 2,
     "metadata": {},
     "output_type": "execute_result"
    }
   ],
   "source": [
    "#df = pd.read_csv('C:/Users/Kate/Desktop/Data Analysis/Datasets/Ecommerce Purchases.csv')\n",
    "#df = pd.read_csv('C:/Users/Kate/Desktop/Data Analysis/Datasets/supermarket_sales - Sheet1.csv')\n",
    "df = pd.read_csv('C:/Users/Kate/Desktop/Data Analysis/Datasets/Mall_Customers.csv')\n",
    "\n",
    "df.head()"
   ]
  },
  {
   "cell_type": "code",
   "execution_count": 3,
   "id": "f967ae6f",
   "metadata": {},
   "outputs": [
    {
     "data": {
      "text/plain": [
       "OneHotEncoder(handle_unknown='ignore')"
      ]
     },
     "execution_count": 3,
     "metadata": {},
     "output_type": "execute_result"
    }
   ],
   "source": [
    "enc = OneHotEncoder(handle_unknown='ignore')\n",
    ">>> X = [['Male', 1], ['Female', 2]]\n",
    ">>> enc.fit(X)"
   ]
  },
  {
   "cell_type": "code",
   "execution_count": 43,
   "id": "c532a3d1",
   "metadata": {},
   "outputs": [
    {
     "data": {
      "text/plain": [
       "[array(['Female', 'Male'], dtype=object), array([1, 0], dtype=object)]"
      ]
     },
     "execution_count": 43,
     "metadata": {},
     "output_type": "execute_result"
    }
   ],
   "source": [
    "enc.categories_\n",
    "[array(['Female', 'Male'], dtype=object), array([1, 0], dtype=object)]"
   ]
  },
  {
   "cell_type": "code",
   "execution_count": 50,
   "id": "995b7a53",
   "metadata": {},
   "outputs": [
    {
     "data": {
      "text/plain": [
       "array([[1., 0., 1., 0.],\n",
       "       [0., 1., 0., 0.]])"
      ]
     },
     "execution_count": 50,
     "metadata": {},
     "output_type": "execute_result"
    }
   ],
   "source": [
    "#a = enc.transform([['Female', 1], ['Male', 4]]).toarray()\n",
    "a = enc.transform([['Female', 1], ['Male', 0]]).toarray()\n",
    "a"
   ]
  },
  {
   "cell_type": "code",
   "execution_count": 57,
   "id": "99c86917",
   "metadata": {},
   "outputs": [],
   "source": [
    "#a = enc.inverse_transform(a)\n",
    "#a                      "
   ]
  },
  {
   "cell_type": "code",
   "execution_count": 67,
   "id": "8926673d",
   "metadata": {},
   "outputs": [
    {
     "data": {
      "text/plain": [
       "array([[0., 0.],\n",
       "       [1., 1.]])"
      ]
     },
     "execution_count": 67,
     "metadata": {},
     "output_type": "execute_result"
    }
   ],
   "source": [
    "drop_binary_enc = OneHotEncoder(drop='if_binary').fit(X)\n",
    "db = drop_binary_enc.transform([['Female', 1], ['Male', 2]]).toarray()\n",
    "db\n",
    "#array([[0., 1., 0., 0.],\n",
    "#       [1., 0., 1., 0.]])"
   ]
  },
  {
   "cell_type": "code",
   "execution_count": 11,
   "id": "3f31a9ba",
   "metadata": {},
   "outputs": [
    {
     "data": {
      "text/plain": [
       "Index(['CustomerID', 'Gender', 'Age', 'Annual Income (k$)',\n",
       "       'Spending Score (1-100)'],\n",
       "      dtype='object')"
      ]
     },
     "execution_count": 11,
     "metadata": {},
     "output_type": "execute_result"
    }
   ],
   "source": [
    "df.columns"
   ]
  },
  {
   "cell_type": "markdown",
   "id": "f9d49daa",
   "metadata": {},
   "source": [
    "## Normalization\n",
    "Scaling from [0-1]"
   ]
  },
  {
   "cell_type": "code",
   "execution_count": 5,
   "id": "c07a7e1f",
   "metadata": {},
   "outputs": [],
   "source": [
    "from sklearn.preprocessing import MinMaxScaler\n",
    "from sklearn.model_selection import train_test_split"
   ]
  },
  {
   "cell_type": "code",
   "execution_count": 56,
   "id": "1ec845ec",
   "metadata": {},
   "outputs": [],
   "source": [
    "X1 = df[['CustomerID', 'Age', 'Annual Income (k$)']] #Drop column Gender \n",
    "y1 = df['Spending Score (1-100)']\n",
    "y1 = y1.values.reshape(-1, 1)"
   ]
  },
  {
   "cell_type": "code",
   "execution_count": 57,
   "id": "63035d25",
   "metadata": {},
   "outputs": [
    {
     "name": "stdout",
     "output_type": "stream",
     "text": [
      "     CustomerID  Age  Annual Income (k$)\n",
      "0             1   19                  15\n",
      "1             2   21                  15\n",
      "2             3   20                  16\n",
      "3             4   23                  16\n",
      "4             5   31                  17\n",
      "..          ...  ...                 ...\n",
      "195         196   35                 120\n",
      "196         197   45                 126\n",
      "197         198   32                 126\n",
      "198         199   32                 137\n",
      "199         200   30                 137\n",
      "\n",
      "[200 rows x 3 columns]\n"
     ]
    }
   ],
   "source": [
    "print(X1)"
   ]
  },
  {
   "cell_type": "code",
   "execution_count": 58,
   "id": "421e0076",
   "metadata": {},
   "outputs": [],
   "source": [
    "X_train, X_test, Y_train, Y_test = train_test_split(X1, y1, test_size=0.2, random_state=32)"
   ]
  },
  {
   "cell_type": "code",
   "execution_count": 59,
   "id": "f04757d1",
   "metadata": {},
   "outputs": [
    {
     "data": {
      "text/plain": [
       "array([[ 1],\n",
       "       [16],\n",
       "       [76],\n",
       "       [74],\n",
       "       [97],\n",
       "       [46],\n",
       "       [92],\n",
       "       [63],\n",
       "       [88],\n",
       "       [13],\n",
       "       [ 7],\n",
       "       [ 5],\n",
       "       [58],\n",
       "       [97],\n",
       "       [27],\n",
       "       [46],\n",
       "       [59],\n",
       "       [46],\n",
       "       [73],\n",
       "       [50],\n",
       "       [35],\n",
       "       [14],\n",
       "       [11],\n",
       "       [35],\n",
       "       [76],\n",
       "       [56],\n",
       "       [93],\n",
       "       [48],\n",
       "       [15],\n",
       "       [77],\n",
       "       [55],\n",
       "       [35],\n",
       "       [16],\n",
       "       [40],\n",
       "       [41],\n",
       "       [51],\n",
       "       [26],\n",
       "       [92],\n",
       "       [65],\n",
       "       [18],\n",
       "       [ 4],\n",
       "       [98],\n",
       "       [73],\n",
       "       [41],\n",
       "       [55],\n",
       "       [43],\n",
       "       [17],\n",
       "       [88],\n",
       "       [13],\n",
       "       [47],\n",
       "       [81],\n",
       "       [15],\n",
       "       [79],\n",
       "       [ 6],\n",
       "       [43],\n",
       "       [59],\n",
       "       [47],\n",
       "       [34],\n",
       "       [44],\n",
       "       [89],\n",
       "       [42],\n",
       "       [42],\n",
       "       [48],\n",
       "       [83],\n",
       "       [69],\n",
       "       [49],\n",
       "       [90],\n",
       "       [56],\n",
       "       [46],\n",
       "       [ 3],\n",
       "       [73],\n",
       "       [50],\n",
       "       [49],\n",
       "       [22],\n",
       "       [91],\n",
       "       [49],\n",
       "       [39],\n",
       "       [42],\n",
       "       [86],\n",
       "       [ 8],\n",
       "       [ 5],\n",
       "       [90],\n",
       "       [ 4],\n",
       "       [95],\n",
       "       [52],\n",
       "       [57],\n",
       "       [91],\n",
       "       [32],\n",
       "       [85],\n",
       "       [28],\n",
       "       [36],\n",
       "       [50],\n",
       "       [55],\n",
       "       [94],\n",
       "       [53],\n",
       "       [75],\n",
       "       [17],\n",
       "       [60],\n",
       "       [52],\n",
       "       [35],\n",
       "       [39],\n",
       "       [60],\n",
       "       [77],\n",
       "       [40],\n",
       "       [82],\n",
       "       [51],\n",
       "       [88],\n",
       "       [55],\n",
       "       [57],\n",
       "       [59],\n",
       "       [42],\n",
       "       [42],\n",
       "       [83],\n",
       "       [75],\n",
       "       [54],\n",
       "       [20],\n",
       "       [73],\n",
       "       [55],\n",
       "       [47],\n",
       "       [52],\n",
       "       [ 1],\n",
       "       [10],\n",
       "       [42],\n",
       "       [52],\n",
       "       [ 5],\n",
       "       [75],\n",
       "       [51],\n",
       "       [55],\n",
       "       [54],\n",
       "       [78],\n",
       "       [56],\n",
       "       [68],\n",
       "       [52],\n",
       "       [99],\n",
       "       [48],\n",
       "       [20],\n",
       "       [69],\n",
       "       [41],\n",
       "       [14],\n",
       "       [10],\n",
       "       [41],\n",
       "       [36],\n",
       "       [14],\n",
       "       [81],\n",
       "       [ 5],\n",
       "       [59],\n",
       "       [79],\n",
       "       [72],\n",
       "       [40],\n",
       "       [72],\n",
       "       [77],\n",
       "       [46],\n",
       "       [42],\n",
       "       [74],\n",
       "       [60],\n",
       "       [23],\n",
       "       [29],\n",
       "       [45],\n",
       "       [71],\n",
       "       [61]], dtype=int64)"
      ]
     },
     "execution_count": 59,
     "metadata": {},
     "output_type": "execute_result"
    }
   ],
   "source": [
    "Y_train"
   ]
  },
  {
   "cell_type": "code",
   "execution_count": 60,
   "id": "94a197b0",
   "metadata": {},
   "outputs": [
    {
     "name": "stdout",
     "output_type": "stream",
     "text": [
      "0.025\n"
     ]
    },
    {
     "name": "stderr",
     "output_type": "stream",
     "text": [
      "C:\\Users\\Kate\\anaconda3\\envs\\main_acad_ds\\lib\\site-packages\\sklearn\\utils\\validation.py:63: DataConversionWarning: A column-vector y was passed when a 1d array was expected. Please change the shape of y to (n_samples, ), for example using ravel().\n",
      "  return f(*args, **kwargs)\n",
      "C:\\Users\\Kate\\anaconda3\\envs\\main_acad_ds\\lib\\site-packages\\sklearn\\linear_model\\_logistic.py:763: ConvergenceWarning: lbfgs failed to converge (status=1):\n",
      "STOP: TOTAL NO. of ITERATIONS REACHED LIMIT.\n",
      "\n",
      "Increase the number of iterations (max_iter) or scale the data as shown in:\n",
      "    https://scikit-learn.org/stable/modules/preprocessing.html\n",
      "Please also refer to the documentation for alternative solver options:\n",
      "    https://scikit-learn.org/stable/modules/linear_model.html#logistic-regression\n",
      "  n_iter_i = _check_optimize_result(\n"
     ]
    }
   ],
   "source": [
    "from sklearn.linear_model import LogisticRegression \n",
    "\n",
    "log_model = LogisticRegression() #any features??\n",
    "log_model.fit(X_train,Y_train)\n",
    "\n",
    "log_model.predict(X_test)\n",
    "score = log_model.score(X_test, Y_test)\n",
    "print(score)"
   ]
  },
  {
   "cell_type": "code",
   "execution_count": 50,
   "id": "600c49d4",
   "metadata": {},
   "outputs": [],
   "source": [
    "# fit scaler on training data\n",
    "norm = MinMaxScaler().fit(X_train,Y_train)"
   ]
  },
  {
   "cell_type": "code",
   "execution_count": 54,
   "id": "647f766e",
   "metadata": {},
   "outputs": [],
   "source": [
    "# transform training data\n",
    "X_train_norm = norm.transform(X_train)"
   ]
  },
  {
   "cell_type": "code",
   "execution_count": 52,
   "id": "86fb3d28",
   "metadata": {},
   "outputs": [],
   "source": [
    "# transform testing dataabs\n",
    "X_test_norm = norm.transform(X_test)"
   ]
  },
  {
   "cell_type": "code",
   "execution_count": 61,
   "id": "6c4edd3c",
   "metadata": {},
   "outputs": [
    {
     "ename": "ValueError",
     "evalue": "X has 1 features, but MinMaxScaler is expecting 3 features as input.",
     "output_type": "error",
     "traceback": [
      "\u001b[1;31m---------------------------------------------------------------------------\u001b[0m",
      "\u001b[1;31mValueError\u001b[0m                                Traceback (most recent call last)",
      "\u001b[1;32m<ipython-input-61-55a30c5f79e7>\u001b[0m in \u001b[0;36m<module>\u001b[1;34m\u001b[0m\n\u001b[1;32m----> 1\u001b[1;33m \u001b[0mY_train_norm\u001b[0m \u001b[1;33m=\u001b[0m \u001b[0mnorm\u001b[0m\u001b[1;33m.\u001b[0m\u001b[0mtransform\u001b[0m\u001b[1;33m(\u001b[0m\u001b[0mY_train\u001b[0m\u001b[1;33m)\u001b[0m\u001b[1;33m\u001b[0m\u001b[1;33m\u001b[0m\u001b[0m\n\u001b[0m",
      "\u001b[1;32m~\\anaconda3\\envs\\main_acad_ds\\lib\\site-packages\\sklearn\\preprocessing\\_data.py\u001b[0m in \u001b[0;36mtransform\u001b[1;34m(self, X)\u001b[0m\n\u001b[0;32m    432\u001b[0m         \u001b[0mcheck_is_fitted\u001b[0m\u001b[1;33m(\u001b[0m\u001b[0mself\u001b[0m\u001b[1;33m)\u001b[0m\u001b[1;33m\u001b[0m\u001b[1;33m\u001b[0m\u001b[0m\n\u001b[0;32m    433\u001b[0m \u001b[1;33m\u001b[0m\u001b[0m\n\u001b[1;32m--> 434\u001b[1;33m         X = self._validate_data(X, copy=self.copy, dtype=FLOAT_DTYPES,\n\u001b[0m\u001b[0;32m    435\u001b[0m                                 force_all_finite=\"allow-nan\", reset=False)\n\u001b[0;32m    436\u001b[0m \u001b[1;33m\u001b[0m\u001b[0m\n",
      "\u001b[1;32m~\\anaconda3\\envs\\main_acad_ds\\lib\\site-packages\\sklearn\\base.py\u001b[0m in \u001b[0;36m_validate_data\u001b[1;34m(self, X, y, reset, validate_separately, **check_params)\u001b[0m\n\u001b[0;32m    435\u001b[0m \u001b[1;33m\u001b[0m\u001b[0m\n\u001b[0;32m    436\u001b[0m         \u001b[1;32mif\u001b[0m \u001b[0mcheck_params\u001b[0m\u001b[1;33m.\u001b[0m\u001b[0mget\u001b[0m\u001b[1;33m(\u001b[0m\u001b[1;34m'ensure_2d'\u001b[0m\u001b[1;33m,\u001b[0m \u001b[1;32mTrue\u001b[0m\u001b[1;33m)\u001b[0m\u001b[1;33m:\u001b[0m\u001b[1;33m\u001b[0m\u001b[1;33m\u001b[0m\u001b[0m\n\u001b[1;32m--> 437\u001b[1;33m             \u001b[0mself\u001b[0m\u001b[1;33m.\u001b[0m\u001b[0m_check_n_features\u001b[0m\u001b[1;33m(\u001b[0m\u001b[0mX\u001b[0m\u001b[1;33m,\u001b[0m \u001b[0mreset\u001b[0m\u001b[1;33m=\u001b[0m\u001b[0mreset\u001b[0m\u001b[1;33m)\u001b[0m\u001b[1;33m\u001b[0m\u001b[1;33m\u001b[0m\u001b[0m\n\u001b[0m\u001b[0;32m    438\u001b[0m \u001b[1;33m\u001b[0m\u001b[0m\n\u001b[0;32m    439\u001b[0m         \u001b[1;32mreturn\u001b[0m \u001b[0mout\u001b[0m\u001b[1;33m\u001b[0m\u001b[1;33m\u001b[0m\u001b[0m\n",
      "\u001b[1;32m~\\anaconda3\\envs\\main_acad_ds\\lib\\site-packages\\sklearn\\base.py\u001b[0m in \u001b[0;36m_check_n_features\u001b[1;34m(self, X, reset)\u001b[0m\n\u001b[0;32m    363\u001b[0m \u001b[1;33m\u001b[0m\u001b[0m\n\u001b[0;32m    364\u001b[0m         \u001b[1;32mif\u001b[0m \u001b[0mn_features\u001b[0m \u001b[1;33m!=\u001b[0m \u001b[0mself\u001b[0m\u001b[1;33m.\u001b[0m\u001b[0mn_features_in_\u001b[0m\u001b[1;33m:\u001b[0m\u001b[1;33m\u001b[0m\u001b[1;33m\u001b[0m\u001b[0m\n\u001b[1;32m--> 365\u001b[1;33m             raise ValueError(\n\u001b[0m\u001b[0;32m    366\u001b[0m                 \u001b[1;34mf\"X has {n_features} features, but {self.__class__.__name__} \"\u001b[0m\u001b[1;33m\u001b[0m\u001b[1;33m\u001b[0m\u001b[0m\n\u001b[0;32m    367\u001b[0m                 f\"is expecting {self.n_features_in_} features as input.\")\n",
      "\u001b[1;31mValueError\u001b[0m: X has 1 features, but MinMaxScaler is expecting 3 features as input."
     ]
    }
   ],
   "source": [
    "Y_train_norm = norm.transform(Y_train)"
   ]
  },
  {
   "cell_type": "code",
   "execution_count": 34,
   "id": "e8bfe741",
   "metadata": {},
   "outputs": [
    {
     "data": {
      "text/plain": [
       "array([[0.61306533, 0.42307692, 0.44262295],\n",
       "       [0.93467337, 0.69230769, 0.70491803],\n",
       "       [0.83919598, 0.28846154, 0.58196721],\n",
       "       [0.50753769, 0.59615385, 0.3852459 ],\n",
       "       [0.14572864, 0.09615385, 0.1147541 ],\n",
       "       [0.37688442, 0.15384615, 0.31967213],\n",
       "       [0.72361809, 0.13461538, 0.50819672],\n",
       "       [0.14070352, 0.42307692, 0.1147541 ],\n",
       "       [0.6080402 , 0.38461538, 0.42622951],\n",
       "       [0.91457286, 0.53846154, 0.68032787],\n",
       "       [0.13567839, 0.32692308, 0.10655738],\n",
       "       [0.90954774, 0.26923077, 0.67213115],\n",
       "       [0.1959799 , 0.03846154, 0.18032787],\n",
       "       [0.11557789, 0.25      , 0.08196721],\n",
       "       [0.01005025, 0.03846154, 0.00819672],\n",
       "       [0.86934673, 0.34615385, 0.59016393],\n",
       "       [0.53768844, 0.69230769, 0.39344262],\n",
       "       [0.08542714, 0.03846154, 0.04918033],\n",
       "       [0.54773869, 0.92307692, 0.39344262],\n",
       "       [0.59296482, 0.63461538, 0.42622951],\n",
       "       [0.13065327, 0.51923077, 0.10655738],\n",
       "       [0.23115578, 0.61538462, 0.20491803],\n",
       "       [0.10552764, 0.13461538, 0.07377049],\n",
       "       [0.8040201 , 0.73076923, 0.52459016],\n",
       "       [0.22110553, 0.59615385, 0.19672131],\n",
       "       [0.71859296, 0.26923077, 0.5       ],\n",
       "       [0.28140704, 0.63461538, 0.23770492],\n",
       "       [0.94472362, 0.44230769, 0.72131148],\n",
       "       [0.39698492, 0.59615385, 0.31967213],\n",
       "       [0.36683417, 0.80769231, 0.28688525],\n",
       "       [0.8241206 , 0.61538462, 0.57377049],\n",
       "       [0.09045226, 0.65384615, 0.06557377],\n",
       "       [0.51256281, 0.94230769, 0.3852459 ],\n",
       "       [0.65829146, 0.40384615, 0.45901639],\n",
       "       [0.48241206, 0.55769231, 0.36885246],\n",
       "       [0.70854271, 0.26923077, 0.49180328],\n",
       "       [0.57788945, 0.01923077, 0.40983607],\n",
       "       [0.87437186, 0.65384615, 0.59836066],\n",
       "       [0.65326633, 0.55769231, 0.45901639],\n",
       "       [0.17085427, 0.59615385, 0.14754098]])"
      ]
     },
     "execution_count": 34,
     "metadata": {},
     "output_type": "execute_result"
    }
   ],
   "source": [
    "#already normalised arrays of X\n",
    "X_test_norm"
   ]
  },
  {
   "cell_type": "markdown",
   "id": "546ccf8a",
   "metadata": {},
   "source": [
    "## Standartization\n",
    "Standardization (or z-score normalization) scales the values while taking into account standard deviation. If the standard deviation of features is different, their range also would differ from each other. This reduces the effect of the outliers in the features.\n",
    "\n",
    "In the following formula of standardization, the mean is shown as μ and the standard deviation is shown as σ."
   ]
  },
  {
   "attachments": {
    "image.png": {
     "image/png": "[encoded data removed]"
    }
   },
   "cell_type": "markdown",
   "id": "cd462b5a",
   "metadata": {},
   "source": [
    "![image.png](attachment:image.png)"
   ]
  },
  {
   "cell_type": "code",
   "execution_count": 35,
   "id": "11b5f2e6",
   "metadata": {},
   "outputs": [],
   "source": [
    "from sklearn.preprocessing import StandardScaler"
   ]
  },
  {
   "cell_type": "code",
   "execution_count": 36,
   "id": "ffdc1670",
   "metadata": {},
   "outputs": [],
   "source": [
    "# copy of datasets\n",
    "X_train_stand = X_train.copy()\n",
    "X_test_stand = X_test.copy()"
   ]
  },
  {
   "cell_type": "code",
   "execution_count": 42,
   "id": "99e431ee",
   "metadata": {},
   "outputs": [
    {
     "data": {
      "text/html": [
       "<div>\n",
       "<style scoped>\n",
       "    .dataframe tbody tr th:only-of-type {\n",
       "        vertical-align: middle;\n",
       "    }\n",
       "\n",
       "    .dataframe tbody tr th {\n",
       "        vertical-align: top;\n",
       "    }\n",
       "\n",
       "    .dataframe thead th {\n",
       "        text-align: right;\n",
       "    }\n",
       "</style>\n",
       "<table border=\"1\" class=\"dataframe\">\n",
       "  <thead>\n",
       "    <tr style=\"text-align: right;\">\n",
       "      <th></th>\n",
       "      <th>CustomerID</th>\n",
       "      <th>Age</th>\n",
       "      <th>Annual Income (k$)</th>\n",
       "    </tr>\n",
       "  </thead>\n",
       "  <tbody>\n",
       "    <tr>\n",
       "      <th>count</th>\n",
       "      <td>1.600000e+02</td>\n",
       "      <td>1.600000e+02</td>\n",
       "      <td>1.600000e+02</td>\n",
       "    </tr>\n",
       "    <tr>\n",
       "      <th>mean</th>\n",
       "      <td>6.106227e-17</td>\n",
       "      <td>1.221245e-16</td>\n",
       "      <td>-4.440892e-17</td>\n",
       "    </tr>\n",
       "    <tr>\n",
       "      <th>std</th>\n",
       "      <td>1.003140e+00</td>\n",
       "      <td>1.003140e+00</td>\n",
       "      <td>1.003140e+00</td>\n",
       "    </tr>\n",
       "    <tr>\n",
       "      <th>min</th>\n",
       "      <td>-1.734996e+00</td>\n",
       "      <td>-1.431640e+00</td>\n",
       "      <td>-1.735691e+00</td>\n",
       "    </tr>\n",
       "    <tr>\n",
       "      <th>25%</th>\n",
       "      <td>-8.202432e-01</td>\n",
       "      <td>-7.244388e-01</td>\n",
       "      <td>-6.800440e-01</td>\n",
       "    </tr>\n",
       "    <tr>\n",
       "      <th>50%</th>\n",
       "      <td>-4.422030e-02</td>\n",
       "      <td>-2.293983e-01</td>\n",
       "      <td>-2.026465e-02</td>\n",
       "    </tr>\n",
       "    <tr>\n",
       "      <th>75%</th>\n",
       "      <td>8.705329e-01</td>\n",
       "      <td>6.899628e-01</td>\n",
       "      <td>6.395147e-01</td>\n",
       "    </tr>\n",
       "    <tr>\n",
       "      <th>max</th>\n",
       "      <td>1.715921e+00</td>\n",
       "      <td>2.245804e+00</td>\n",
       "      <td>2.863914e+00</td>\n",
       "    </tr>\n",
       "  </tbody>\n",
       "</table>\n",
       "</div>"
      ],
      "text/plain": [
       "         CustomerID           Age  Annual Income (k$)\n",
       "count  1.600000e+02  1.600000e+02        1.600000e+02\n",
       "mean   6.106227e-17  1.221245e-16       -4.440892e-17\n",
       "std    1.003140e+00  1.003140e+00        1.003140e+00\n",
       "min   -1.734996e+00 -1.431640e+00       -1.735691e+00\n",
       "25%   -8.202432e-01 -7.244388e-01       -6.800440e-01\n",
       "50%   -4.422030e-02 -2.293983e-01       -2.026465e-02\n",
       "75%    8.705329e-01  6.899628e-01        6.395147e-01\n",
       "max    1.715921e+00  2.245804e+00        2.863914e+00"
      ]
     },
     "execution_count": 42,
     "metadata": {},
     "output_type": "execute_result"
    }
   ],
   "source": [
    "X_train_stand.describe()"
   ]
  },
  {
   "cell_type": "code",
   "execution_count": 37,
   "id": "f2c319f5",
   "metadata": {},
   "outputs": [],
   "source": [
    "columns = df[['CustomerID', 'Age', 'Annual Income (k$)']]"
   ]
  },
  {
   "cell_type": "code",
   "execution_count": 38,
   "id": "17d15b5c",
   "metadata": {},
   "outputs": [],
   "source": [
    "for i in columns:\n",
    "    \n",
    "    # fit on training data column\n",
    "    scale = StandardScaler().fit(X_train_stand[[i]])\n",
    "    \n",
    "    # transform the training data column\n",
    "    X_train_stand[i] = scale.transform(X_train_stand[[i]])\n",
    "    \n",
    "    # transform the testing data column\n",
    "    X_test_stand[i] = scale.transform(X_test_stand[[i]])"
   ]
  },
  {
   "cell_type": "code",
   "execution_count": 41,
   "id": "1aacbadf",
   "metadata": {},
   "outputs": [
    {
     "data": {
      "text/html": [
       "<div>\n",
       "<style scoped>\n",
       "    .dataframe tbody tr th:only-of-type {\n",
       "        vertical-align: middle;\n",
       "    }\n",
       "\n",
       "    .dataframe tbody tr th {\n",
       "        vertical-align: top;\n",
       "    }\n",
       "\n",
       "    .dataframe thead th {\n",
       "        text-align: right;\n",
       "    }\n",
       "</style>\n",
       "<table border=\"1\" class=\"dataframe\">\n",
       "  <thead>\n",
       "    <tr style=\"text-align: right;\">\n",
       "      <th></th>\n",
       "      <th>CustomerID</th>\n",
       "      <th>Age</th>\n",
       "      <th>Annual Income (k$)</th>\n",
       "    </tr>\n",
       "  </thead>\n",
       "  <tbody>\n",
       "    <tr>\n",
       "      <th>count</th>\n",
       "      <td>1.600000e+02</td>\n",
       "      <td>1.600000e+02</td>\n",
       "      <td>1.600000e+02</td>\n",
       "    </tr>\n",
       "    <tr>\n",
       "      <th>mean</th>\n",
       "      <td>6.106227e-17</td>\n",
       "      <td>1.221245e-16</td>\n",
       "      <td>-4.440892e-17</td>\n",
       "    </tr>\n",
       "    <tr>\n",
       "      <th>std</th>\n",
       "      <td>1.003140e+00</td>\n",
       "      <td>1.003140e+00</td>\n",
       "      <td>1.003140e+00</td>\n",
       "    </tr>\n",
       "    <tr>\n",
       "      <th>min</th>\n",
       "      <td>-1.734996e+00</td>\n",
       "      <td>-1.431640e+00</td>\n",
       "      <td>-1.735691e+00</td>\n",
       "    </tr>\n",
       "    <tr>\n",
       "      <th>25%</th>\n",
       "      <td>-8.202432e-01</td>\n",
       "      <td>-7.244388e-01</td>\n",
       "      <td>-6.800440e-01</td>\n",
       "    </tr>\n",
       "    <tr>\n",
       "      <th>50%</th>\n",
       "      <td>-4.422030e-02</td>\n",
       "      <td>-2.293983e-01</td>\n",
       "      <td>-2.026465e-02</td>\n",
       "    </tr>\n",
       "    <tr>\n",
       "      <th>75%</th>\n",
       "      <td>8.705329e-01</td>\n",
       "      <td>6.899628e-01</td>\n",
       "      <td>6.395147e-01</td>\n",
       "    </tr>\n",
       "    <tr>\n",
       "      <th>max</th>\n",
       "      <td>1.715921e+00</td>\n",
       "      <td>2.245804e+00</td>\n",
       "      <td>2.863914e+00</td>\n",
       "    </tr>\n",
       "  </tbody>\n",
       "</table>\n",
       "</div>"
      ],
      "text/plain": [
       "         CustomerID           Age  Annual Income (k$)\n",
       "count  1.600000e+02  1.600000e+02        1.600000e+02\n",
       "mean   6.106227e-17  1.221245e-16       -4.440892e-17\n",
       "std    1.003140e+00  1.003140e+00        1.003140e+00\n",
       "min   -1.734996e+00 -1.431640e+00       -1.735691e+00\n",
       "25%   -8.202432e-01 -7.244388e-01       -6.800440e-01\n",
       "50%   -4.422030e-02 -2.293983e-01       -2.026465e-02\n",
       "75%    8.705329e-01  6.899628e-01        6.395147e-01\n",
       "max    1.715921e+00  2.245804e+00        2.863914e+00"
      ]
     },
     "execution_count": 41,
     "metadata": {},
     "output_type": "execute_result"
    }
   ],
   "source": [
    "X_train_stand.describe()"
   ]
  },
  {
   "cell_type": "code",
   "execution_count": null,
   "id": "55ab399c",
   "metadata": {},
   "outputs": [],
   "source": []
  },
  {
   "cell_type": "code",
   "execution_count": 63,
   "id": "d927765b",
   "metadata": {},
   "outputs": [
    {
     "name": "stdout",
     "output_type": "stream",
     "text": [
      "0.025\n"
     ]
    },
    {
     "name": "stderr",
     "output_type": "stream",
     "text": [
      "C:\\Users\\Kate\\anaconda3\\envs\\main_acad_ds\\lib\\site-packages\\sklearn\\utils\\validation.py:63: DataConversionWarning: A column-vector y was passed when a 1d array was expected. Please change the shape of y to (n_samples, ), for example using ravel().\n",
      "  return f(*args, **kwargs)\n"
     ]
    }
   ],
   "source": [
    "from sklearn.linear_model import LogisticRegression \n",
    "\n",
    "log_model = LogisticRegression() #any features??\n",
    "log_model.fit(X_train_norm,Y_train)\n",
    "\n",
    "log_model.predict(X_test_norm)\n",
    "score = log_model.score(X_test_norm, Y_test)\n",
    "print(score)"
   ]
  }
 ],
 "metadata": {
  "kernelspec": {
   "display_name": "Python 3",
   "language": "python",
   "name": "python3"
  },
  "language_info": {
   "codemirror_mode": {
    "name": "ipython",
    "version": 3
   },
   "file_extension": ".py",
   "mimetype": "text/x-python",
   "name": "python",
   "nbconvert_exporter": "python",
   "pygments_lexer": "ipython3",
   "version": "3.8.10"
  }
 },
 "nbformat": 4,
 "nbformat_minor": 5
}
