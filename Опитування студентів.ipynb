{
 "cells": [
  {
   "cell_type": "markdown",
   "id": "2b7d6808",
   "metadata": {},
   "source": [
    "Результати опитування"
   ]
  },
  {
   "cell_type": "code",
   "execution_count": 1,
   "id": "9a22dbe9",
   "metadata": {},
   "outputs": [
    {
     "data": {
      "text/html": [
       "<div>\n",
       "<style scoped>\n",
       "    .dataframe tbody tr th:only-of-type {\n",
       "        vertical-align: middle;\n",
       "    }\n",
       "\n",
       "    .dataframe tbody tr th {\n",
       "        vertical-align: top;\n",
       "    }\n",
       "\n",
       "    .dataframe thead th {\n",
       "        text-align: right;\n",
       "    }\n",
       "</style>\n",
       "<table border=\"1\" class=\"dataframe\">\n",
       "  <thead>\n",
       "    <tr style=\"text-align: right;\">\n",
       "      <th></th>\n",
       "      <th>Отметка времени</th>\n",
       "      <th>Вік</th>\n",
       "      <th>Місто</th>\n",
       "      <th>Спеціальність</th>\n",
       "      <th>Курс</th>\n",
       "      <th>Досвід</th>\n",
       "      <th>Ресурси для пошуку</th>\n",
       "      <th>Проблеми</th>\n",
       "      <th>Увага на</th>\n",
       "      <th>Інша сфера</th>\n",
       "      <th>Стажування онлайн</th>\n",
       "      <th>Який графік</th>\n",
       "      <th>Яка оплата</th>\n",
       "    </tr>\n",
       "  </thead>\n",
       "  <tbody>\n",
       "    <tr>\n",
       "      <th>0</th>\n",
       "      <td>16.10.2021 20:28:35</td>\n",
       "      <td>19</td>\n",
       "      <td>Львів</td>\n",
       "      <td>Право</td>\n",
       "      <td>3</td>\n",
       "      <td>Так</td>\n",
       "      <td>Сайти пошуку роботи (work.ua, тощо), Рекоманда...</td>\n",
       "      <td>NaN</td>\n",
       "      <td>На зарплатню та графік</td>\n",
       "      <td>Так</td>\n",
       "      <td>Ні</td>\n",
       "      <td>Гнучкий графік, Неповний робочий день</td>\n",
       "      <td>6000-10000 грн/місяць</td>\n",
       "    </tr>\n",
       "    <tr>\n",
       "      <th>1</th>\n",
       "      <td>16.10.2021 20:29:20</td>\n",
       "      <td>19</td>\n",
       "      <td>Львів</td>\n",
       "      <td>Системний аналіз</td>\n",
       "      <td>3</td>\n",
       "      <td>Ні</td>\n",
       "      <td>Сайти пошуку роботи (work.ua, тощо), Онлайн-ре...</td>\n",
       "      <td>Сайти роботодавців потрібно весь час моніторити</td>\n",
       "      <td>На актуальність знань</td>\n",
       "      <td>Ні</td>\n",
       "      <td>Так</td>\n",
       "      <td>Гнучкий графік, Неповний робочий день</td>\n",
       "      <td>готовий(а) працювати безкоштовно</td>\n",
       "    </tr>\n",
       "    <tr>\n",
       "      <th>2</th>\n",
       "      <td>16.10.2021 20:31:42</td>\n",
       "      <td>19</td>\n",
       "      <td>Львів</td>\n",
       "      <td>Філологія</td>\n",
       "      <td>3</td>\n",
       "      <td>Так</td>\n",
       "      <td>Сайти пошуку роботи (work.ua, тощо), Рекоманда...</td>\n",
       "      <td>NaN</td>\n",
       "      <td>Вимоги, займяність, оплата, обов'язки</td>\n",
       "      <td>Так</td>\n",
       "      <td>Так</td>\n",
       "      <td>Гнучкий графік, Неповний робочий день</td>\n",
       "      <td>3000-6000 грн/місяць</td>\n",
       "    </tr>\n",
       "    <tr>\n",
       "      <th>3</th>\n",
       "      <td>16.10.2021 20:35:10</td>\n",
       "      <td>19</td>\n",
       "      <td>Городок</td>\n",
       "      <td>Кібербезпека</td>\n",
       "      <td>2</td>\n",
       "      <td>Ні</td>\n",
       "      <td>Онлайн-ресурс djinni, Сайти роботодавців (конк...</td>\n",
       "      <td>Жодних проблем</td>\n",
       "      <td>Умови, вимоги до кандидата, відгуки про компанію</td>\n",
       "      <td>Так</td>\n",
       "      <td>Так</td>\n",
       "      <td>Повний робочий день</td>\n",
       "      <td>6000-10000 грн/місяць</td>\n",
       "    </tr>\n",
       "    <tr>\n",
       "      <th>4</th>\n",
       "      <td>16.10.2021 20:36:29</td>\n",
       "      <td>18</td>\n",
       "      <td>Київ</td>\n",
       "      <td>Міжнародні відносини</td>\n",
       "      <td>2</td>\n",
       "      <td>Ні</td>\n",
       "      <td>Сайти пошуку роботи (work.ua, тощо)</td>\n",
       "      <td>NaN</td>\n",
       "      <td>На заробітну плату, на гнучкість графіку</td>\n",
       "      <td>Так</td>\n",
       "      <td>Так</td>\n",
       "      <td>Гнучкий графік</td>\n",
       "      <td>3000-6000 грн/місяць</td>\n",
       "    </tr>\n",
       "  </tbody>\n",
       "</table>\n",
       "</div>"
      ],
      "text/plain": [
       "       Отметка времени Вік    Місто         Спеціальність Курс Досвід   \\\n",
       "0  16.10.2021 20:28:35  19    Львів                 Право    3     Так   \n",
       "1  16.10.2021 20:29:20  19    Львів      Системний аналіз    3      Ні   \n",
       "2  16.10.2021 20:31:42  19    Львів             Філологія    3     Так   \n",
       "3  16.10.2021 20:35:10  19  Городок         Кібербезпека     2      Ні   \n",
       "4  16.10.2021 20:36:29  18     Київ  Міжнародні відносини    2      Ні   \n",
       "\n",
       "                                  Ресурси для пошуку  \\\n",
       "0  Сайти пошуку роботи (work.ua, тощо), Рекоманда...   \n",
       "1  Сайти пошуку роботи (work.ua, тощо), Онлайн-ре...   \n",
       "2  Сайти пошуку роботи (work.ua, тощо), Рекоманда...   \n",
       "3  Онлайн-ресурс djinni, Сайти роботодавців (конк...   \n",
       "4                Сайти пошуку роботи (work.ua, тощо)   \n",
       "\n",
       "                                          Проблеми   \\\n",
       "0                                               NaN   \n",
       "1  Сайти роботодавців потрібно весь час моніторити    \n",
       "2                                               NaN   \n",
       "3                                    Жодних проблем   \n",
       "4                                               NaN   \n",
       "\n",
       "                                           Увага на Інша сфера  \\\n",
       "0                            На зарплатню та графік        Так   \n",
       "1                            На актуальність знань          Ні   \n",
       "2             Вимоги, займяність, оплата, обов'язки        Так   \n",
       "3  Умови, вимоги до кандидата, відгуки про компанію        Так   \n",
       "4          На заробітну плату, на гнучкість графіку        Так   \n",
       "\n",
       "  Стажування онлайн                           Який графік   \\\n",
       "0                Ні  Гнучкий графік, Неповний робочий день   \n",
       "1               Так  Гнучкий графік, Неповний робочий день   \n",
       "2               Так  Гнучкий графік, Неповний робочий день   \n",
       "3               Так                    Повний робочий день   \n",
       "4               Так                         Гнучкий графік   \n",
       "\n",
       "                        Яка оплата   \n",
       "0             6000-10000 грн/місяць  \n",
       "1  готовий(а) працювати безкоштовно  \n",
       "2              3000-6000 грн/місяць  \n",
       "3             6000-10000 грн/місяць  \n",
       "4              3000-6000 грн/місяць  "
      ]
     },
     "execution_count": 1,
     "metadata": {},
     "output_type": "execute_result"
    }
   ],
   "source": [
    "import pandas as pd\n",
    "import statistics \n",
    "data ='C:/Users/Kate/Desktop/datasets/Опитування.csv'\n",
    "quiz = pd.read_csv(data)\n",
    "quiz.head()"
   ]
  },
  {
   "cell_type": "code",
   "execution_count": 2,
   "id": "a7730c7d",
   "metadata": {},
   "outputs": [
    {
     "data": {
      "text/html": [
       "<div>\n",
       "<style scoped>\n",
       "    .dataframe tbody tr th:only-of-type {\n",
       "        vertical-align: middle;\n",
       "    }\n",
       "\n",
       "    .dataframe tbody tr th {\n",
       "        vertical-align: top;\n",
       "    }\n",
       "\n",
       "    .dataframe thead th {\n",
       "        text-align: right;\n",
       "    }\n",
       "</style>\n",
       "<table border=\"1\" class=\"dataframe\">\n",
       "  <thead>\n",
       "    <tr style=\"text-align: right;\">\n",
       "      <th></th>\n",
       "      <th>Отметка времени</th>\n",
       "      <th>Вік</th>\n",
       "      <th>Місто</th>\n",
       "      <th>Спеціальність</th>\n",
       "      <th>Курс</th>\n",
       "      <th>Досвід</th>\n",
       "      <th>Ресурси для пошуку</th>\n",
       "      <th>Проблеми</th>\n",
       "      <th>Увага на</th>\n",
       "      <th>Інша сфера</th>\n",
       "      <th>Стажування онлайн</th>\n",
       "      <th>Який графік</th>\n",
       "      <th>Яка оплата</th>\n",
       "    </tr>\n",
       "  </thead>\n",
       "  <tbody>\n",
       "    <tr>\n",
       "      <th>count</th>\n",
       "      <td>155</td>\n",
       "      <td>155</td>\n",
       "      <td>155</td>\n",
       "      <td>155</td>\n",
       "      <td>155</td>\n",
       "      <td>155</td>\n",
       "      <td>155</td>\n",
       "      <td>76</td>\n",
       "      <td>155</td>\n",
       "      <td>155</td>\n",
       "      <td>155</td>\n",
       "      <td>155</td>\n",
       "      <td>155</td>\n",
       "    </tr>\n",
       "    <tr>\n",
       "      <th>unique</th>\n",
       "      <td>155</td>\n",
       "      <td>13</td>\n",
       "      <td>22</td>\n",
       "      <td>84</td>\n",
       "      <td>8</td>\n",
       "      <td>8</td>\n",
       "      <td>91</td>\n",
       "      <td>60</td>\n",
       "      <td>150</td>\n",
       "      <td>2</td>\n",
       "      <td>12</td>\n",
       "      <td>15</td>\n",
       "      <td>26</td>\n",
       "    </tr>\n",
       "    <tr>\n",
       "      <th>top</th>\n",
       "      <td>16.10.2021 20:28:35</td>\n",
       "      <td>19</td>\n",
       "      <td>Львів</td>\n",
       "      <td>Системний аналіз</td>\n",
       "      <td>3</td>\n",
       "      <td>Так</td>\n",
       "      <td>Не користуюся жодним</td>\n",
       "      <td>Ніяких</td>\n",
       "      <td>Графік</td>\n",
       "      <td>Так</td>\n",
       "      <td>Так</td>\n",
       "      <td>Гнучкий графік</td>\n",
       "      <td>6000-10000 грн/місяць</td>\n",
       "    </tr>\n",
       "    <tr>\n",
       "      <th>freq</th>\n",
       "      <td>1</td>\n",
       "      <td>54</td>\n",
       "      <td>109</td>\n",
       "      <td>14</td>\n",
       "      <td>64</td>\n",
       "      <td>96</td>\n",
       "      <td>11</td>\n",
       "      <td>10</td>\n",
       "      <td>3</td>\n",
       "      <td>112</td>\n",
       "      <td>108</td>\n",
       "      <td>53</td>\n",
       "      <td>30</td>\n",
       "    </tr>\n",
       "  </tbody>\n",
       "</table>\n",
       "</div>"
      ],
      "text/plain": [
       "            Отметка времени  Вік  Місто     Спеціальність Курс Досвід   \\\n",
       "count                   155  155    155               155  155     155   \n",
       "unique                  155   13     22                84    8       8   \n",
       "top     16.10.2021 20:28:35   19  Львів  Системний аналіз    3     Так   \n",
       "freq                      1   54    109                14   64      96   \n",
       "\n",
       "          Ресурси для пошуку Проблеми  Увага на Інша сфера Стажування онлайн  \\\n",
       "count                    155        76      155        155               155   \n",
       "unique                    91        60      150          2                12   \n",
       "top     Не користуюся жодним    Ніяких   Графік        Так               Так   \n",
       "freq                      11        10        3        112               108   \n",
       "\n",
       "          Який графік             Яка оплата   \n",
       "count              155                    155  \n",
       "unique              15                     26  \n",
       "top     Гнучкий графік  6000-10000 грн/місяць  \n",
       "freq                53                     30  "
      ]
     },
     "execution_count": 2,
     "metadata": {},
     "output_type": "execute_result"
    }
   ],
   "source": [
    "quiz.describe()"
   ]
  },
  {
   "cell_type": "code",
   "execution_count": 3,
   "id": "13ae9938",
   "metadata": {},
   "outputs": [
    {
     "data": {
      "text/plain": [
       "Львів       109\n",
       "Городок       9\n",
       "Київ          6\n",
       "Львів         4\n",
       "Городок       4\n",
       "Name: Місто, dtype: int64"
      ]
     },
     "execution_count": 3,
     "metadata": {},
     "output_type": "execute_result"
    }
   ],
   "source": [
    "quiz['Місто'].value_counts()[0:5]"
   ]
  },
  {
   "cell_type": "code",
   "execution_count": 4,
   "id": "05aae712",
   "metadata": {},
   "outputs": [
    {
     "data": {
      "text/plain": [
       "Графік                                         3\n",
       "Вимоги, зарплата                               2\n",
       "-                                              2\n",
       "Зарплату                                       2\n",
       "На зарплатню та графік                         1\n",
       "                                              ..\n",
       "Можливості для розвитку                        1\n",
       "На компанію, відгуки працівників. Бенефіти.    1\n",
       "Висока заробітна плата                         1\n",
       "Набір технологій                               1\n",
       "Локація місця роботи                           1\n",
       "Name: Увага на, Length: 150, dtype: int64"
      ]
     },
     "execution_count": 4,
     "metadata": {},
     "output_type": "execute_result"
    }
   ],
   "source": [
    "quiz['Увага на'].value_counts()"
   ]
  },
  {
   "cell_type": "code",
   "execution_count": 5,
   "id": "c5da1868",
   "metadata": {},
   "outputs": [
    {
     "data": {
      "text/plain": [
       "Не користуюся жодним                                                                                       11\n",
       "Сайти пошуку роботи (work.ua, тощо)                                                                        10\n",
       "Сайти пошуку роботи (work.ua, тощо), Рекомандації родичів, друзів, знайомих, Telegram-канали                8\n",
       "Сайти пошуку роботи (work.ua, тощо), Рекомандації родичів, друзів, знайомих, Telegram-канали, Instagram     5\n",
       "Сайти пошуку роботи (work.ua, тощо), Рекомандації родичів, друзів, знайомих                                 5\n",
       "Name: Ресурси для пошуку, dtype: int64"
      ]
     },
     "execution_count": 5,
     "metadata": {},
     "output_type": "execute_result"
    }
   ],
   "source": [
    "quiz['Ресурси для пошуку'].value_counts()[0:5]"
   ]
  },
  {
   "cell_type": "code",
   "execution_count": 6,
   "id": "3b971913",
   "metadata": {},
   "outputs": [
    {
     "name": "stdout",
     "output_type": "stream",
     "text": [
      "Requirement already satisfied: seaborn in c:\\users\\kate\\anaconda3\\envs\\main_acad_ds\\lib\\site-packages (0.11.2)\n",
      "Requirement already satisfied: scipy>=1.0 in c:\\users\\kate\\anaconda3\\envs\\main_acad_ds\\lib\\site-packages (from seaborn) (1.7.0)\n",
      "Requirement already satisfied: pandas>=0.23 in c:\\users\\kate\\anaconda3\\envs\\main_acad_ds\\lib\\site-packages (from seaborn) (1.3.0)\n",
      "Requirement already satisfied: numpy>=1.15 in c:\\users\\kate\\anaconda3\\envs\\main_acad_ds\\lib\\site-packages (from seaborn) (1.21.0)\n",
      "Requirement already satisfied: matplotlib>=2.2 in c:\\users\\kate\\anaconda3\\envs\\main_acad_ds\\lib\\site-packages (from seaborn) (3.4.3)\n",
      "Requirement already satisfied: pyparsing>=2.2.1 in c:\\users\\kate\\anaconda3\\envs\\main_acad_ds\\lib\\site-packages (from matplotlib>=2.2->seaborn) (2.4.7)\n",
      "Requirement already satisfied: pillow>=6.2.0 in c:\\users\\kate\\anaconda3\\envs\\main_acad_ds\\lib\\site-packages (from matplotlib>=2.2->seaborn) (8.4.0)\n",
      "Requirement already satisfied: kiwisolver>=1.0.1 in c:\\users\\kate\\anaconda3\\envs\\main_acad_ds\\lib\\site-packages (from matplotlib>=2.2->seaborn) (1.3.2)\n",
      "Requirement already satisfied: python-dateutil>=2.7 in c:\\users\\kate\\anaconda3\\envs\\main_acad_ds\\lib\\site-packages (from matplotlib>=2.2->seaborn) (2.8.1)\n",
      "Requirement already satisfied: cycler>=0.10 in c:\\users\\kate\\anaconda3\\envs\\main_acad_ds\\lib\\site-packages (from matplotlib>=2.2->seaborn) (0.10.0)\n",
      "Requirement already satisfied: six in c:\\users\\kate\\anaconda3\\envs\\main_acad_ds\\lib\\site-packages (from cycler>=0.10->matplotlib>=2.2->seaborn) (1.16.0)\n",
      "Requirement already satisfied: pytz>=2017.3 in c:\\users\\kate\\anaconda3\\envs\\main_acad_ds\\lib\\site-packages (from pandas>=0.23->seaborn) (2021.1)\n"
     ]
    }
   ],
   "source": [
    "from IPython.display import HTML\n",
    "!pip install seaborn\n",
    "import seaborn as sns\n",
    "import matplotlib.pyplot as plt"
   ]
  },
  {
   "cell_type": "code",
   "execution_count": 7,
   "id": "7e7d94f2",
   "metadata": {},
   "outputs": [
    {
     "data": {
      "text/plain": [
       "<AxesSubplot:xlabel='Місто', ylabel='count'>"
      ]
     },
     "execution_count": 7,
     "metadata": {},
     "output_type": "execute_result"
    },
    {
     "data": {
      "image/png": "[encoded data removed]",
      "text/plain": [
       "<Figure size 432x288 with 1 Axes>"
      ]
     },
     "metadata": {},
     "output_type": "display_data"
    }
   ],
   "source": [
    "unique_values = pd.melt(quiz, var_name=\"Місто\", value_name=\"Яка оплата\").groupby(\"Місто\")[\"Яка оплата\"].nunique()\n",
    "sns.set(style=\"white\", color_codes=True)\n",
    "sns.countplot(data=quiz, x=\"Місто\")"
   ]
  },
  {
   "cell_type": "code",
   "execution_count": 8,
   "id": "215bf089",
   "metadata": {},
   "outputs": [
    {
     "data": {
      "text/html": [
       "155 людей пройшли опитування та 112 з них не проти стажування в іншій сфері"
      ],
      "text/plain": [
       "<IPython.core.display.HTML object>"
      ]
     },
     "execution_count": 8,
     "metadata": {},
     "output_type": "execute_result"
    }
   ],
   "source": [
    "HTML(\"%d людей пройшли опитування та %d з них не проти стажування в іншій сфері\" % (len(quiz), len([s for s in quiz[\"Інша сфера\"] if s==\"Так\"])))"
   ]
  },
  {
   "cell_type": "code",
   "execution_count": 9,
   "id": "a7a1568b",
   "metadata": {},
   "outputs": [
    {
     "data": {
      "text/html": [
       "<div>\n",
       "<style scoped>\n",
       "    .dataframe tbody tr th:only-of-type {\n",
       "        vertical-align: middle;\n",
       "    }\n",
       "\n",
       "    .dataframe tbody tr th {\n",
       "        vertical-align: top;\n",
       "    }\n",
       "\n",
       "    .dataframe thead th {\n",
       "        text-align: right;\n",
       "    }\n",
       "</style>\n",
       "<table border=\"1\" class=\"dataframe\">\n",
       "  <thead>\n",
       "    <tr style=\"text-align: right;\">\n",
       "      <th></th>\n",
       "      <th>Вік</th>\n",
       "      <th>Місто</th>\n",
       "      <th>Спеціальність</th>\n",
       "      <th>Курс</th>\n",
       "      <th>Інша сфера</th>\n",
       "      <th>Увага на</th>\n",
       "    </tr>\n",
       "  </thead>\n",
       "  <tbody>\n",
       "    <tr>\n",
       "      <th>0</th>\n",
       "      <td>19</td>\n",
       "      <td>Львів</td>\n",
       "      <td>Право</td>\n",
       "      <td>3</td>\n",
       "      <td>Так</td>\n",
       "      <td>На зарплатню та графік</td>\n",
       "    </tr>\n",
       "    <tr>\n",
       "      <th>1</th>\n",
       "      <td>19</td>\n",
       "      <td>Львів</td>\n",
       "      <td>Системний аналіз</td>\n",
       "      <td>3</td>\n",
       "      <td>Ні</td>\n",
       "      <td>На актуальність знань</td>\n",
       "    </tr>\n",
       "    <tr>\n",
       "      <th>2</th>\n",
       "      <td>19</td>\n",
       "      <td>Львів</td>\n",
       "      <td>Філологія</td>\n",
       "      <td>3</td>\n",
       "      <td>Так</td>\n",
       "      <td>Вимоги, займяність, оплата, обов'язки</td>\n",
       "    </tr>\n",
       "    <tr>\n",
       "      <th>3</th>\n",
       "      <td>19</td>\n",
       "      <td>Городок</td>\n",
       "      <td>Кібербезпека</td>\n",
       "      <td>2</td>\n",
       "      <td>Так</td>\n",
       "      <td>Умови, вимоги до кандидата, відгуки про компанію</td>\n",
       "    </tr>\n",
       "    <tr>\n",
       "      <th>4</th>\n",
       "      <td>18</td>\n",
       "      <td>Київ</td>\n",
       "      <td>Міжнародні відносини</td>\n",
       "      <td>2</td>\n",
       "      <td>Так</td>\n",
       "      <td>На заробітну плату, на гнучкість графіку</td>\n",
       "    </tr>\n",
       "  </tbody>\n",
       "</table>\n",
       "</div>"
      ],
      "text/plain": [
       "  Вік    Місто         Спеціальність Курс Інша сфера  \\\n",
       "0  19    Львів                 Право    3        Так   \n",
       "1  19    Львів      Системний аналіз    3         Ні   \n",
       "2  19    Львів             Філологія    3        Так   \n",
       "3  19  Городок         Кібербезпека     2        Так   \n",
       "4  18     Київ  Міжнародні відносини    2        Так   \n",
       "\n",
       "                                           Увага на  \n",
       "0                            На зарплатню та графік  \n",
       "1                            На актуальність знань   \n",
       "2             Вимоги, займяність, оплата, обов'язки  \n",
       "3  Умови, вимоги до кандидата, відгуки про компанію  \n",
       "4          На заробітну плату, на гнучкість графіку  "
      ]
     },
     "execution_count": 9,
     "metadata": {},
     "output_type": "execute_result"
    }
   ],
   "source": [
    "table = quiz[['Вік', 'Місто','Спеціальність','Курс','Інша сфера', 'Увага на']]\n",
    "table.head()"
   ]
  },
  {
   "cell_type": "markdown",
   "id": "b5f4fc30",
   "metadata": {},
   "source": [
    "from sklearn.cluster import KMeans\n",
    "\n",
    "quiz.data\n",
    "kmeans = KMeans(n_clusters=3)\n",
    "KModel = kmeans.fit(quiz.data)\n",
    "KModel.labels_"
   ]
  },
  {
   "cell_type": "code",
   "execution_count": 10,
   "id": "ea76401f",
   "metadata": {},
   "outputs": [
    {
     "data": {
      "text/html": [
       "<div>\n",
       "<style scoped>\n",
       "    .dataframe tbody tr th:only-of-type {\n",
       "        vertical-align: middle;\n",
       "    }\n",
       "\n",
       "    .dataframe tbody tr th {\n",
       "        vertical-align: top;\n",
       "    }\n",
       "\n",
       "    .dataframe thead th {\n",
       "        text-align: right;\n",
       "    }\n",
       "</style>\n",
       "<table border=\"1\" class=\"dataframe\">\n",
       "  <thead>\n",
       "    <tr style=\"text-align: right;\">\n",
       "      <th></th>\n",
       "      <th></th>\n",
       "    </tr>\n",
       "    <tr>\n",
       "      <th>Місто</th>\n",
       "      <th>Спеціальність</th>\n",
       "    </tr>\n",
       "  </thead>\n",
       "  <tbody>\n",
       "    <tr>\n",
       "      <th rowspan=\"2\" valign=\"top\">Івано-Франківськ</th>\n",
       "      <th>Іспанська філологія</th>\n",
       "    </tr>\n",
       "    <tr>\n",
       "      <th>Менеджмент</th>\n",
       "    </tr>\n",
       "    <tr>\n",
       "      <th>Бердянськ</th>\n",
       "      <th>Менеджмент готельного , курортного та туристичного сервісу</th>\n",
       "    </tr>\n",
       "    <tr>\n",
       "      <th>Вінниця</th>\n",
       "      <th>Медицина</th>\n",
       "    </tr>\n",
       "    <tr>\n",
       "      <th>Городок</th>\n",
       "      <th>Інженерія програмного забезпечення</th>\n",
       "    </tr>\n",
       "    <tr>\n",
       "      <th>...</th>\n",
       "      <th>...</th>\n",
       "    </tr>\n",
       "    <tr>\n",
       "      <th>Хмельницький</th>\n",
       "      <th>Психологія</th>\n",
       "    </tr>\n",
       "    <tr>\n",
       "      <th>Червоноград/Львів</th>\n",
       "      <th>Фінанси, банківська, митна і податкова справа</th>\n",
       "    </tr>\n",
       "    <tr>\n",
       "      <th rowspan=\"2\" valign=\"top\">Чернігів</th>\n",
       "      <th>017 Фізична культура і спорт</th>\n",
       "    </tr>\n",
       "    <tr>\n",
       "      <th>Міжнародні економічні відносини</th>\n",
       "    </tr>\n",
       "    <tr>\n",
       "      <th>саси</th>\n",
       "      <th>далбайоб</th>\n",
       "    </tr>\n",
       "  </tbody>\n",
       "</table>\n",
       "<p>107 rows × 0 columns</p>\n",
       "</div>"
      ],
      "text/plain": [
       "Empty DataFrame\n",
       "Columns: []\n",
       "Index: [(Івано-Франківськ, Іспанська філологія), (Івано-Франківськ, Менеджмент), (Бердянськ , Менеджмент готельного , курортного та туристичного сервісу ), (Вінниця , Медицина), (Городок, Інженерія програмного забезпечення), (Городок, Історія), (Городок, Економіка), (Городок, Кібербезпека ), (Городок, Маркетинг), (Городок, Право ), (Городок, Прикладна лінгвістика ), (Городок, Психологія), (Городок, Хімічні технології та інженерія), (Городок , Історія та правознавство ), (Городок , Економіка ), (Городок , Транспортні технології ), (Городок , Філологія), (Здолбунів, Готельно-ресторанна справа ), (Київ, Геодезія), (Київ, Міжнародні відносини), (Київ, Прикладна фізика), (Київ, Системне програмування ), (Київ, Соціальна робота), (Київ, Хімічні технології та інженерія), (Луцьк, Інженерія програмного забезпечення), (Луцьк, Економіка), (Луцьк , Психологія), (Львів, Mіжнародні економічні відносини), (Львів, Інженерія програмного забезпечення), (Львів, Іноземні мови (німецька та англійська)), (Львів, Інтернет речей), (Львів, Інформаційні технології у менеджменті), (Львів, Англійська філологія), (Львів, Англійська філологія та фінанси, банківська справа і страхування), (Львів, Архітектура), (Львів, Архітектура та містобудування), (Львів, Архітектура та містобудування ), (Львів, Архітектура та реставрація), (Львів, Ветеринарна медицина), (Львів, Видавництво та поліграфія), (Львів, Геодезія та землеустрій), (Львів, Германська філологія), (Львів, Графічний дизайн), (Львів, Дизайн одягу), (Львів, Ев), (Львів, Економіка), (Львів, Економіка та правове регулювання в бізнесі), (Львів, Електроенергетика), (Львів, Журналістика), (Львів, Класична філологія), (Львів, Класична філологія та англійська мова), (Львів, Комп'ютерна інженерія), (Львів, Комп'ютерні науки), (Львів, Комп‘ютерна інженерія), (Львів, Комп‘ютерні науки), (Львів, Комп’ютерна інженерія), (Львів, Комп’ютерна інженерія ), (Львів, Кібербезпека), (Львів, Лікарська справа), (Львів, Маркетинг), (Львів, Медицина), (Львів, Менеджмент), (Львів, Метрологія), (Львів, Міжнародне право), (Львів, Міжнародний туризм ), (Львів, Міжнародні відносини), (Львів, Міжнародні відносини ), (Львів, Міжнародні відносини, суспільні комунікації та регіональні студії), (Львів, Міжнародні економічні відносини), (Львів, Міжнародні економічні відносини ), (Львів, Педагогічна), (Львів, Пожежна безпека), (Львів, Політологія), (Львів, Право), (Львів, Правоохоронна діяльність), (Львів, Прикладна лінгвістика), (Львів, Психологія), (Львів, Середня освіта (географія)), (Львів, Системна інженерія), (Львів, Системна інженерія, Інтернет речей), (Львів, Системний аналіз), (Львів, Системний аналіз ), (Львів, Соціальна робота), (Львів, Туризм), (Львів, Фізична терапія ,ерготерапія ), (Львів, Філологія), (Львів, Фінансова і актуарна математика ), (Львів, видавництво та поліграфія), (Львів , Інформаційна, бібліотечна та архівна справа), (Львів , Ветеринара медицина), (Львів , Кібербезпека), (Львів , Медицина ), (Одеса, Економіка), (Одеса, Системний аналіз), (Самбір, Право), (Сарни, Іноземні мови), (Смереків, Менеджмент), (Стрий, Архітектура та містобудування), (Стрий, Комп'ютерні науки), (Тернопіль, Дизайн середовища ), ...]\n",
       "\n",
       "[107 rows x 0 columns]"
      ]
     },
     "execution_count": 10,
     "metadata": {},
     "output_type": "execute_result"
    }
   ],
   "source": [
    "category_group=quiz.groupby(['Місто','Спеціальність']).sum()\n",
    "category_group"
   ]
  },
  {
   "cell_type": "code",
   "execution_count": 11,
   "id": "b43e055a",
   "metadata": {},
   "outputs": [
    {
     "name": "stderr",
     "output_type": "stream",
     "text": [
      "C:\\Users\\Kate\\anaconda3\\envs\\main_acad_ds\\lib\\site-packages\\IPython\\core\\interactiveshell.py:3437: FutureWarning: This dataframe has a column name that matches the 'value_name' column name of the resulting Dataframe. In the future this will raise an error, please set the 'value_name' parameter of DataFrame.melt to a unique name.\n",
      "  exec(code_obj, self.user_global_ns, self.user_ns)\n"
     ]
    },
    {
     "data": {
      "text/plain": [
       "<AxesSubplot:xlabel='Вік', ylabel='count'>"
      ]
     },
     "execution_count": 11,
     "metadata": {},
     "output_type": "execute_result"
    },
    {
     "data": {
      "image/png": "[encoded data removed]",
      "text/plain": [
       "<Figure size 432x288 with 1 Axes>"
      ]
     },
     "metadata": {},
     "output_type": "display_data"
    }
   ],
   "source": [
    "fancy_plot = pd.melt(quiz, var_name=\"Вік\", value_name=\"Місто\" ).nunique()\n",
    "sns.set(style=\"white\", color_codes=True)\n",
    "sns.countplot(data=quiz, x=\"Вік\")"
   ]
  },
  {
   "cell_type": "code",
   "execution_count": 12,
   "id": "5cde6d06",
   "metadata": {},
   "outputs": [
    {
     "name": "stderr",
     "output_type": "stream",
     "text": [
      "C:\\Users\\Kate\\anaconda3\\envs\\main_acad_ds\\lib\\site-packages\\IPython\\core\\interactiveshell.py:3437: FutureWarning: This dataframe has a column name that matches the 'value_name' column name of the resulting Dataframe. In the future this will raise an error, please set the 'value_name' parameter of DataFrame.melt to a unique name.\n",
      "  exec(code_obj, self.user_global_ns, self.user_ns)\n"
     ]
    },
    {
     "data": {
      "text/plain": [
       "<AxesSubplot:xlabel='Курс', ylabel='count'>"
      ]
     },
     "execution_count": 12,
     "metadata": {},
     "output_type": "execute_result"
    },
    {
     "data": {
      "image/png": "[encoded data removed]",
      "text/plain": [
       "<Figure size 432x288 with 1 Axes>"
      ]
     },
     "metadata": {},
     "output_type": "display_data"
    }
   ],
   "source": [
    "unique_values1 = pd.melt(quiz, var_name=\"Ресурси для пошуку\", value_name=\"Курс\").groupby(\"Ресурси для пошуку\")[\"Курс\"].nunique()\n",
    "sns.set(style=\"white\", color_codes=True)\n",
    "sns.countplot(data=quiz, x=\"Курс\")"
   ]
  },
  {
   "cell_type": "code",
   "execution_count": 13,
   "id": "31160b63",
   "metadata": {},
   "outputs": [
    {
     "data": {
      "image/png": "[encoded data removed]",
      "text/plain": [
       "<Figure size 432x288 with 1 Axes>"
      ]
     },
     "metadata": {},
     "output_type": "display_data"
    }
   ],
   "source": [
    "quiz['Місто'].value_counts().head(10).plot.pie()\n",
    "\n",
    "plt.gca().set_aspect('equal')"
   ]
  },
  {
   "cell_type": "code",
   "execution_count": 14,
   "id": "38604d97",
   "metadata": {},
   "outputs": [
    {
     "data": {
      "image/png": "[encoded data removed]",
      "text/plain": [
       "<Figure size 432x288 with 1 Axes>"
      ]
     },
     "metadata": {},
     "output_type": "display_data"
    }
   ],
   "source": [
    "quiz['Спеціальність'].value_counts().head(10).plot.pie()\n",
    "\n",
    "plt.gca().set_aspect('equal')"
   ]
  },
  {
   "cell_type": "code",
   "execution_count": 15,
   "id": "cebd9ef1",
   "metadata": {},
   "outputs": [
    {
     "data": {
      "text/html": [
       "<div>\n",
       "<style scoped>\n",
       "    .dataframe tbody tr th:only-of-type {\n",
       "        vertical-align: middle;\n",
       "    }\n",
       "\n",
       "    .dataframe tbody tr th {\n",
       "        vertical-align: top;\n",
       "    }\n",
       "\n",
       "    .dataframe thead th {\n",
       "        text-align: right;\n",
       "    }\n",
       "</style>\n",
       "<table border=\"1\" class=\"dataframe\">\n",
       "  <thead>\n",
       "    <tr style=\"text-align: right;\">\n",
       "      <th></th>\n",
       "      <th>Ресурси для пошуку</th>\n",
       "      <th>Місто</th>\n",
       "      <th>Проблеми</th>\n",
       "    </tr>\n",
       "  </thead>\n",
       "  <tbody>\n",
       "    <tr>\n",
       "      <th>0</th>\n",
       "      <td>Сайти пошуку роботи (work.ua, тощо), Рекоманда...</td>\n",
       "      <td>Львів</td>\n",
       "      <td>NaN</td>\n",
       "    </tr>\n",
       "    <tr>\n",
       "      <th>1</th>\n",
       "      <td>Сайти пошуку роботи (work.ua, тощо), Онлайн-ре...</td>\n",
       "      <td>Львів</td>\n",
       "      <td>Сайти роботодавців потрібно весь час моніторити</td>\n",
       "    </tr>\n",
       "    <tr>\n",
       "      <th>2</th>\n",
       "      <td>Сайти пошуку роботи (work.ua, тощо), Рекоманда...</td>\n",
       "      <td>Львів</td>\n",
       "      <td>NaN</td>\n",
       "    </tr>\n",
       "    <tr>\n",
       "      <th>3</th>\n",
       "      <td>Онлайн-ресурс djinni, Сайти роботодавців (конк...</td>\n",
       "      <td>Городок</td>\n",
       "      <td>Жодних проблем</td>\n",
       "    </tr>\n",
       "    <tr>\n",
       "      <th>4</th>\n",
       "      <td>Сайти пошуку роботи (work.ua, тощо)</td>\n",
       "      <td>Київ</td>\n",
       "      <td>NaN</td>\n",
       "    </tr>\n",
       "    <tr>\n",
       "      <th>...</th>\n",
       "      <td>...</td>\n",
       "      <td>...</td>\n",
       "      <td>...</td>\n",
       "    </tr>\n",
       "    <tr>\n",
       "      <th>150</th>\n",
       "      <td>Сайти пошуку роботи (work.ua, тощо), Сайти роб...</td>\n",
       "      <td>Львів</td>\n",
       "      <td>NaN</td>\n",
       "    </tr>\n",
       "    <tr>\n",
       "      <th>151</th>\n",
       "      <td>Сайти пошуку роботи (work.ua, тощо), Telegram-...</td>\n",
       "      <td>Львів</td>\n",
       "      <td>Жодних</td>\n",
       "    </tr>\n",
       "    <tr>\n",
       "      <th>152</th>\n",
       "      <td>Сайти пошуку роботи (work.ua, тощо), Сайти роб...</td>\n",
       "      <td>Стрий</td>\n",
       "      <td>інколи неактуальні пошти, довгі відповіді на л...</td>\n",
       "    </tr>\n",
       "    <tr>\n",
       "      <th>153</th>\n",
       "      <td>Сайти пошуку роботи (work.ua, тощо), Рекоманда...</td>\n",
       "      <td>Львів</td>\n",
       "      <td>Незручність пошуку та проблеми з комунікацією</td>\n",
       "    </tr>\n",
       "    <tr>\n",
       "      <th>154</th>\n",
       "      <td>Сайти пошуку роботи (work.ua, тощо), Telegram-...</td>\n",
       "      <td>Львів</td>\n",
       "      <td>NaN</td>\n",
       "    </tr>\n",
       "  </tbody>\n",
       "</table>\n",
       "<p>154 rows × 3 columns</p>\n",
       "</div>"
      ],
      "text/plain": [
       "                                    Ресурси для пошуку    Місто  \\\n",
       "0    Сайти пошуку роботи (work.ua, тощо), Рекоманда...    Львів   \n",
       "1    Сайти пошуку роботи (work.ua, тощо), Онлайн-ре...    Львів   \n",
       "2    Сайти пошуку роботи (work.ua, тощо), Рекоманда...    Львів   \n",
       "3    Онлайн-ресурс djinni, Сайти роботодавців (конк...  Городок   \n",
       "4                  Сайти пошуку роботи (work.ua, тощо)     Київ   \n",
       "..                                                 ...      ...   \n",
       "150  Сайти пошуку роботи (work.ua, тощо), Сайти роб...    Львів   \n",
       "151  Сайти пошуку роботи (work.ua, тощо), Telegram-...    Львів   \n",
       "152  Сайти пошуку роботи (work.ua, тощо), Сайти роб...    Стрий   \n",
       "153  Сайти пошуку роботи (work.ua, тощо), Рекоманда...    Львів   \n",
       "154  Сайти пошуку роботи (work.ua, тощо), Telegram-...    Львів   \n",
       "\n",
       "                                             Проблеми   \n",
       "0                                                  NaN  \n",
       "1     Сайти роботодавців потрібно весь час моніторити   \n",
       "2                                                  NaN  \n",
       "3                                       Жодних проблем  \n",
       "4                                                  NaN  \n",
       "..                                                 ...  \n",
       "150                                                NaN  \n",
       "151                                             Жодних  \n",
       "152  інколи неактуальні пошти, довгі відповіді на л...  \n",
       "153      Незручність пошуку та проблеми з комунікацією  \n",
       "154                                                NaN  \n",
       "\n",
       "[154 rows x 3 columns]"
      ]
     },
     "execution_count": 15,
     "metadata": {},
     "output_type": "execute_result"
    }
   ],
   "source": [
    "quiz[['Ресурси для пошуку', 'Місто', 'Проблеми ']].groupby(['Ресурси для пошуку']).head(10)"
   ]
  },
  {
   "cell_type": "code",
   "execution_count": 16,
   "id": "b4d43c0f",
   "metadata": {},
   "outputs": [
    {
     "data": {
      "text/plain": [
       "Index(['Отметка времени', 'Вік', 'Місто', 'Спеціальність', 'Курс', 'Досвід ',\n",
       "       'Ресурси для пошуку', 'Проблеми ', 'Увага на', 'Інша сфера',\n",
       "       'Стажування онлайн', 'Який графік ', 'Яка оплата '],\n",
       "      dtype='object')"
      ]
     },
     "execution_count": 16,
     "metadata": {},
     "output_type": "execute_result"
    }
   ],
   "source": [
    "quiz.columns"
   ]
  },
  {
   "cell_type": "code",
   "execution_count": 17,
   "id": "e5ca05ba",
   "metadata": {},
   "outputs": [
    {
     "data": {
      "text/html": [
       "<div>\n",
       "<style scoped>\n",
       "    .dataframe tbody tr th:only-of-type {\n",
       "        vertical-align: middle;\n",
       "    }\n",
       "\n",
       "    .dataframe tbody tr th {\n",
       "        vertical-align: top;\n",
       "    }\n",
       "\n",
       "    .dataframe thead th {\n",
       "        text-align: right;\n",
       "    }\n",
       "</style>\n",
       "<table border=\"1\" class=\"dataframe\">\n",
       "  <thead>\n",
       "    <tr style=\"text-align: right;\">\n",
       "      <th></th>\n",
       "      <th></th>\n",
       "    </tr>\n",
       "    <tr>\n",
       "      <th>Ресурси для пошуку</th>\n",
       "      <th>Проблеми</th>\n",
       "    </tr>\n",
       "  </thead>\n",
       "  <tbody>\n",
       "    <tr>\n",
       "      <th>Instagram</th>\n",
       "      <th>Жодних</th>\n",
       "    </tr>\n",
       "    <tr>\n",
       "      <th rowspan=\"2\" valign=\"top\">Telegram-канали</th>\n",
       "      <th>Більшісь потенційних керівників не відповідає</th>\n",
       "    </tr>\n",
       "    <tr>\n",
       "      <th>Неактуальність</th>\n",
       "    </tr>\n",
       "    <tr>\n",
       "      <th>Telegram-канали, Instagram, Facebook, Реклама в інтернеті, Оголошення у закладі освіти</th>\n",
       "      <th>Досвід роботи</th>\n",
       "    </tr>\n",
       "    <tr>\n",
       "      <th>Не користуюся жодним</th>\n",
       "      <th>Не виникали</th>\n",
       "    </tr>\n",
       "    <tr>\n",
       "      <th>...</th>\n",
       "      <th>...</th>\n",
       "    </tr>\n",
       "    <tr>\n",
       "      <th>Сайти роботодавців (конкретних компаній чи установ), Рекомандації родичів, друзів, знайомих, Linkedin</th>\n",
       "      <th>-</th>\n",
       "    </tr>\n",
       "    <tr>\n",
       "      <th>Сайти роботодавців (конкретних компаній чи установ), Рекомандації родичів, друзів, знайомих, Telegram-канали</th>\n",
       "      <th>Дуже часто власникт оголошень виявляються шахраями і просто виманюють гроші, одного разу ледь не попалась на таку аферу🤦🏼‍♀️</th>\n",
       "    </tr>\n",
       "    <tr>\n",
       "      <th rowspan=\"2\" valign=\"top\">Сайти роботодавців (конкретних компаній чи установ), Рекомандації родичів, друзів, знайомих, Оголошення у закладі освіти</th>\n",
       "      <th>Не весь спектр цікавих пропозицій</th>\n",
       "    </tr>\n",
       "    <tr>\n",
       "      <th>Ніколи не знаєш на що натрапиш, в загальному все працює як повинно</th>\n",
       "    </tr>\n",
       "    <tr>\n",
       "      <th>другое</th>\n",
       "      <th>другое</th>\n",
       "    </tr>\n",
       "  </tbody>\n",
       "</table>\n",
       "<p>76 rows × 0 columns</p>\n",
       "</div>"
      ],
      "text/plain": [
       "Empty DataFrame\n",
       "Columns: []\n",
       "Index: [(Instagram, Жодних), (Telegram-канали, Більшісь потенційних керівників не відповідає), (Telegram-канали, Неактуальність), (Telegram-канали, Instagram, Facebook, Реклама в інтернеті, Оголошення у закладі освіти, Досвід роботи), (Не користуюся жодним, Не виникали), (Не користуюся жодним, Ні), (Не користуюся жодним, Ще не шукав), (Не користуюся жодним, хз), (Не користуюся жодним, Сайти роботодавців (конкретних компаній чи установ), Рекомандації родичів, друзів, знайомих, Telegram-канали, Instagram, Реклама в інтернеті, Оголошення у закладі освіти, жодних), (Онлайн-ресурс djinni, Linkedin, Ніяких), (Онлайн-ресурс djinni, Рекомандації родичів, друзів, знайомих, Telegram-канали, Linkedin, DOU, Мала наявність стажувань та інтернатур), (Онлайн-ресурс djinni, Сайти роботодавців (конкретних компаній чи установ), Linkedin, DOU, Жодних проблем), (Рекомандації родичів, друзів, знайомих, Ніяких), (Рекомандації родичів, друзів, знайомих, Instagram, Реклама в інтернеті, Оголошення у закладі освіти, Рідко для неповнолітніх), (Рекомандації родичів, друзів, знайомих, Telegram-канали, Instagram, -), (Сайти пошуку роботи (work.ua, тощо), Досвід роботи), (Сайти пошуку роботи (work.ua, тощо), Недостатньо інформації про вакансію), (Сайти пошуку роботи (work.ua, тощо), Ніяких), (Сайти пошуку роботи (work.ua, тощо), Ніякі), (Сайти пошуку роботи (work.ua, тощо), Складно знайти стажування), (Сайти пошуку роботи (work.ua, тощо), Facebook, Оголошення у закладі освіти, багато всього і не в одному місці), (Сайти пошуку роботи (work.ua, тощо), Facebook, Реклама в інтернеті, Оголошення у закладі освіти, Не достатня кількість інформації), (Сайти пошуку роботи (work.ua, тощо), Instagram, Реклама в інтернеті, Не знаходила потрібної вакансії), (Сайти пошуку роботи (work.ua, тощо), Telegram-канали, Ніяких), (Сайти пошуку роботи (work.ua, тощо), Telegram-канали, Instagram, Жодних), (Сайти пошуку роботи (work.ua, тощо), Telegram-канали, Instagram, Оголошення у закладі освіти, Не точні данні від роботодавця ), (Сайти пошуку роботи (work.ua, тощо), Telegram-канали, Instagram, Реклама в інтернеті, Не завжди вказана вся потрібна інфа), (Сайти пошуку роботи (work.ua, тощо), Telegram-канали, Реклама в інтернеті, Жодних), (Сайти пошуку роботи (work.ua, тощо), Онлайн-ресурс djinni, Telegram-канали, Linkedin, Ніяких), (Сайти пошуку роботи (work.ua, тощо), Онлайн-ресурс djinni, Сайти роботодавців (конкретних компаній чи установ), Сайти роботодавців потрібно весь час моніторити ), (Сайти пошуку роботи (work.ua, тощо), Онлайн-ресурс djinni, Сайти роботодавців (конкретних компаній чи установ), Telegram-канали, Linkedin, -), (Сайти пошуку роботи (work.ua, тощо), Онлайн-ресурс djinni, Сайти роботодавців (конкретних компаній чи установ), Telegram-канали, Linkedin, Жодних ), (Сайти пошуку роботи (work.ua, тощо), Онлайн-ресурс djinni, Сайти роботодавців (конкретних компаній чи установ), Telegram-канали, Linkedin, Facebook, Ніяких), (Сайти пошуку роботи (work.ua, тощо), Онлайн-ресурс djinni, Сайти роботодавців (конкретних компаній чи установ), Рекомандації родичів, друзів, знайомих, Instagram, Linkedin, Оголошення у закладі освіти, Ніяких), (Сайти пошуку роботи (work.ua, тощо), Онлайн-ресурс djinni, Сайти роботодавців (конкретних компаній чи установ), Рекомандації родичів, друзів, знайомих, Linkedin, Неактуальність вакансій), (Сайти пошуку роботи (work.ua, тощо), Онлайн-ресурс djinni, Сайти роботодавців (конкретних компаній чи установ), Рекомандації родичів, друзів, знайомих, Telegram-канали, Instagram, Linkedin, Facebook, Реклама в інтернеті, Оголошення у закладі освіти, Пінг, відклик сайту, не наявність юажаної вакансії), (Сайти пошуку роботи (work.ua, тощо), Рекомандації родичів, друзів, знайомих, Не виникало жодних проблем), (Сайти пошуку роботи (work.ua, тощо), Рекомандації родичів, друзів, знайомих, Недостатньо вакансій з не повною занятістю), (Сайти пошуку роботи (work.ua, тощо), Рекомандації родичів, друзів, знайомих, Facebook, Мало вакансій за спеціальністю), (Сайти пошуку роботи (work.ua, тощо), Рекомандації родичів, друзів, знайомих, Instagram, Facebook, Реклама в інтернеті, Мало цікавих спеціальностей), (Сайти пошуку роботи (work.ua, тощо), Рекомандації родичів, друзів, знайомих, Telegram-канали, Жодні), (Сайти пошуку роботи (work.ua, тощо), Рекомандації родичів, друзів, знайомих, Telegram-канали, Не багато робіт які приймають студентів без досвіду роботи), (Сайти пошуку роботи (work.ua, тощо), Рекомандації родичів, друзів, знайомих, Telegram-канали, Instagram, Вікова категорія 18+ ), (Сайти пошуку роботи (work.ua, тощо), Рекомандації родичів, друзів, знайомих, Telegram-канали, Instagram, Мала кількість вакансій), (Сайти пошуку роботи (work.ua, тощо), Рекомандації родичів, друзів, знайомих, Telegram-канали, Instagram, Незручність пошуку та проблеми з комунікацією), (Сайти пошуку роботи (work.ua, тощо), Рекомандації родичів, друзів, знайомих, Telegram-канали, Instagram, Facebook, Реклама в інтернеті, Багато спаму. Не всі вказують повні деталі роботи. ), (Сайти пошуку роботи (work.ua, тощо), Рекомандації родичів, друзів, знайомих, Telegram-канали, Instagram, Оголошення у закладі освіти, Завжди шукають людей з досвідом), (Сайти пошуку роботи (work.ua, тощо), Рекомандації родичів, друзів, знайомих, Telegram-канали, Linkedin, Ніяких), (Сайти пошуку роботи (work.ua, тощо), Рекомандації родичів, друзів, знайомих, Telegram-канали, Реклама в інтернеті, Ніяких), (Сайти пошуку роботи (work.ua, тощо), Рекомандації родичів, друзів, знайомих, Telegram-канали, Реклама в інтернеті, Часто вже не актуальні вакансії, важко знайти в поточному часі), (Сайти пошуку роботи (work.ua, тощо), Рекомандації родичів, друзів, знайомих, Оголошення у закладі освіти, Жодних), (Сайти пошуку роботи (work.ua, тощо), Рекомандації родичів, друзів, знайомих, Реклама в інтернеті, Не виникало), (Сайти пошуку роботи (work.ua, тощо), Сайти роботодавців (конкретних компаній чи установ), Instagram, Реклама в інтернеті, Досвід), (Сайти пошуку роботи (work.ua, тощо), Сайти роботодавців (конкретних компаній чи установ), Linkedin, Застарілі вакансії ), (Сайти пошуку роботи (work.ua, тощо), Сайти роботодавців (конкретних компаній чи установ), Telegram-канали, Instagram, Оголошення у закладі освіти, В принципі ніяких, просто інколи мені умови не підходять або я не підходжу), (Сайти пошуку роботи (work.ua, тощо), Сайти роботодавців (конкретних компаній чи установ), Telegram-канали, Instagram, Реклама в інтернеті, Інформацію, яку зустрічаю, вже не є актуальною), (Сайти пошуку роботи (work.ua, тощо), Сайти роботодавців (конкретних компаній чи установ), Telegram-канали, Linkedin, Знайомі, Майже жодних), (Сайти пошуку роботи (work.ua, тощо), Сайти роботодавців (конкретних компаній чи установ), Рекомандації родичів, друзів, знайомих, дуже багато зайвої інформації), (Сайти пошуку роботи (work.ua, тощо), Сайти роботодавців (конкретних компаній чи установ), Рекомандації родичів, друзів, знайомих, Instagram, Недостатньо інформації про вакансію ( зп, графік роботи)), (Сайти пошуку роботи (work.ua, тощо), Сайти роботодавців (конкретних компаній чи установ), Рекомандації родичів, друзів, знайомих, Instagram, Реклама в інтернеті, Немає), (Сайти пошуку роботи (work.ua, тощо), Сайти роботодавців (конкретних компаній чи установ), Рекомандації родичів, друзів, знайомих, Telegram-канали, Не пригадую), (Сайти пошуку роботи (work.ua, тощо), Сайти роботодавців (конкретних компаній чи установ), Рекомандації родичів, друзів, знайомих, Telegram-канали, не беруть неповнолітніх, російські замовники, які хочуть перетворити зарплату на російські банківські картки,мало варіантів для людей без досвіду роботи), (Сайти пошуку роботи (work.ua, тощо), Сайти роботодавців (конкретних компаній чи установ), Рекомандації родичів, друзів, знайомих, Telegram-канали, Facebook, інколи неактуальні пошти, довгі відповіді на листи), (Сайти пошуку роботи (work.ua, тощо), Сайти роботодавців (конкретних компаній чи установ), Рекомандації родичів, друзів, знайомих, Telegram-канали, Instagram, Facebook, Реклама в інтернеті, ніяких), (Сайти пошуку роботи (work.ua, тощо), Сайти роботодавців (конкретних компаній чи установ), Рекомандації родичів, друзів, знайомих, Telegram-канали, Instagram, Linkedin, Різниця між пропонованими умовами і фактичними (було б добре якусь перевірку роботодавців робити)), (Сайти пошуку роботи (work.ua, тощо), Сайти роботодавців (конкретних компаній чи установ), Рекомандації родичів, друзів, знайомих, Telegram-канали, Linkedin, Реклама в інтернеті, Оголошення у закладі освіти, ніяких😌), (Сайти пошуку роботи (work.ua, тощо), Сайти роботодавців (конкретних компаній чи установ), Рекомандації родичів, друзів, знайомих, Telegram-канали, Реклама в інтернеті, В загальному жодних), (Сайти роботодавців (конкретних компаній чи установ), Жодних), (Сайти роботодавців (конкретних компаній чи установ), Оголошення у закладі освіти, Ніяких), (Сайти роботодавців (конкретних компаній чи установ), Оголошення у закладі освіти, Сайти роботодавців часто не відповідають реальному стану вакансій. І до кожної устави потрібно приїздити окремо для уточнення наявних місць), (Сайти роботодавців (конкретних компаній чи установ), Рекомандації родичів, друзів, знайомих, Не завжди зрозумілі сайти), (Сайти роботодавців (конкретних компаній чи установ), Рекомандації родичів, друзів, знайомих, Linkedin, -), (Сайти роботодавців (конкретних компаній чи установ), Рекомандації родичів, друзів, знайомих, Telegram-канали, Дуже часто власникт оголошень виявляються шахраями і просто виманюють гроші, одного разу ледь не попалась на таку аферу🤦🏼‍♀️), (Сайти роботодавців (конкретних компаній чи установ), Рекомандації родичів, друзів, знайомих, Оголошення у закладі освіти, Не весь спектр цікавих пропозицій), (Сайти роботодавців (конкретних компаній чи установ), Рекомандації родичів, друзів, знайомих, Оголошення у закладі освіти, Ніколи не знаєш на що натрапиш, в загальному все працює як повинно), (другое, другое)]\n",
       "\n",
       "[76 rows x 0 columns]"
      ]
     },
     "execution_count": 17,
     "metadata": {},
     "output_type": "execute_result"
    }
   ],
   "source": [
    "gr = quiz.groupby(['Ресурси для пошуку','Проблеми ']).sum()\n",
    "gr"
   ]
  },
  {
   "cell_type": "code",
   "execution_count": 18,
   "id": "8157b9b9",
   "metadata": {},
   "outputs": [
    {
     "data": {
      "text/plain": [
       "1     Сайти роботодавців потрібно весь час моніторити \n",
       "3                                       Жодних проблем\n",
       "5                      Не точні данні від роботодавця \n",
       "6                                                   хз\n",
       "10                                                  Ні\n",
       "13                                 Застарілі вакансії \n",
       "18                                              Досвід\n",
       "19                          Не виникало жодних проблем\n",
       "20                                      Неактуальність\n",
       "23                    Не достатня кількість інформації\n",
       "Name: Проблеми , dtype: object"
      ]
     },
     "execution_count": 18,
     "metadata": {},
     "output_type": "execute_result"
    }
   ],
   "source": [
    "#'Жодних','Ніяких','Не виникало/ли','ні','-'\n",
    "filt = quiz[quiz['Проблеми '].notnull()] \n",
    "filt2 = filt[filt['Проблеми ']!='Ніяких']\n",
    "filt2['Проблеми '].head(10)"
   ]
  },
  {
   "cell_type": "code",
   "execution_count": null,
   "id": "29c6586d",
   "metadata": {},
   "outputs": [],
   "source": []
  },
  {
   "cell_type": "code",
   "execution_count": null,
   "id": "e8788091",
   "metadata": {},
   "outputs": [],
   "source": []
  }
 ],
 "metadata": {
  "kernelspec": {
   "display_name": "Python 3",
   "language": "python",
   "name": "python3"
  },
  "language_info": {
   "codemirror_mode": {
    "name": "ipython",
    "version": 3
   },
   "file_extension": ".py",
   "mimetype": "text/x-python",
   "name": "python",
   "nbconvert_exporter": "python",
   "pygments_lexer": "ipython3",
   "version": "3.8.10"
  }
 },
 "nbformat": 4,
 "nbformat_minor": 5
}
